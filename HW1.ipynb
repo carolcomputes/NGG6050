{
  "nbformat": 4,
  "nbformat_minor": 0,
  "metadata": {
    "colab": {
      "provenance": []
    },
    "kernelspec": {
      "name": "python3",
      "display_name": "Python 3"
    },
    "language_info": {
      "name": "python"
    }
  },
  "cells": [
    {
      "cell_type": "code",
      "execution_count": null,
      "metadata": {
        "id": "AeKvsk7u7-6X"
      },
      "outputs": [],
      "source": [
        "Exercise #1: If someone gets a positive test, is it \"statistically significant\" at the p<0.05 level? Why or why not?\n"
      ]
    },
    {
      "cell_type": "markdown",
      "source": [
        "Exercise #1: If someone gets a positive test, is it \"statistically significant\" at the p<0.05 level? Why or why not?\n",
        "\n",
        "No it is likely not statistically significant. Whether some one gets a false positive or not that is statistically significant at p<.05 depends on the prevalence of infections."
      ],
      "metadata": {
        "id": "cI--vYv89KGn"
      }
    },
    {
      "cell_type": "markdown",
      "source": [],
      "metadata": {
        "id": "tR9IUGid9IX1"
      }
    },
    {
      "cell_type": "code",
      "source": [
        "Exercise #2: What is the probability that if someone gets a positive test, that person is infected?\n",
        "\n",
        "Following on Exercise #2, let's do the same thing, but this time we will try different values for the proportion of the population that is actually infected. What you should notice is that the PROPORTION INFECTED GIVEN A POSITIVE TEST depends (a lot!) on the OVERALL RATE OF INFECTION. Put another way, to determine the probabilty of a hypothesis, given your data (e.g., proportion infected given a positive test), you have to know the probability that the hypothesis was true without any data.\n",
        "Why is this the case? It is a simple consequence of the definition of a conditional probability, formulated as Bayes' Rule. Specifically, the joint probability of two events, call them A and B, is defined as:\n",
        "𝑝(𝐴𝑎𝑛𝑑𝐵)=𝑝(𝐴)×𝑝(𝐵|𝐴)\n",
        "𝑝(𝐵𝑎𝑛𝑑𝐴)=𝑝(𝐵)×𝑝(𝐴|𝐵)\n",
        "Now, calling A the Hypothesis and B the Data, then rearranging, we get:\n",
        "𝑝(𝐻𝑦𝑝𝑜𝑡ℎ𝑒𝑠𝑖𝑠|𝐷𝑎𝑡𝑎)=𝑝(𝐷𝑎𝑡𝑎|𝐻𝑦𝑝𝑜𝑡ℎ𝑒𝑠𝑖𝑠)×𝑝(𝐻𝑦𝑝𝑜𝑡ℎ𝑒𝑠𝑖𝑠)𝑝(𝐷𝑎𝑡𝑎)\n",
        "So you cannot calculate the probability of the hypothesis, given the data (i.e., the Bayesian posterior), without knowing the probability of the hypothesis independent of any data (i.e., the prior).\n",
        "For this exercise, assume a range of priors (infection rates) from 0 to 1 in steps of 0.1.\n"
      ],
      "metadata": {
        "id": "fcQROIfO8KFE"
      },
      "execution_count": null,
      "outputs": []
    },
    {
      "cell_type": "markdown",
      "source": [
        "The bayesian posterior or posterior probability is a calculation of prior probability (from previous data) and the probability of false positives. Below is a script which calculates the prior probability using those two inputs."
      ],
      "metadata": {
        "id": "PkPwj-ZhvpK6"
      }
    },
    {
      "cell_type": "code",
      "source": [
        "def calculate_posterior(prior, false_positive_rate):\n",
        "    p_positive_given_hiv = 1.0\n",
        "    p_positive_given_no_hiv = false_positive_rate\n",
        "    denominator = (p_positive_given_hiv * prior) + (p_positive_given_no_hiv * (1 - prior))\n",
        "    posterior = (p_positive_given_hiv * prior) / denominator\n",
        "    return posterior\n",
        "\n",
        "# Range of priors (infection rates) from 0 to 1 in steps of 0.1\n",
        "prior_range = [i / 10.0 for i in range(11)]\n",
        "\n",
        "# False positive rate\n",
        "false_positive_rate = 0.05\n",
        "\n",
        "# Calculate and print the posterior probability for each prior\n",
        "for prior in prior_range:\n",
        "    posterior = calculate_posterior(prior, false_positive_rate)\n",
        "    print(f\"Prior (Infection Rate): {prior:.1f}, Posterior Probability: {posterior:.4f}\")\n",
        "\n"
      ],
      "metadata": {
        "id": "w5dRW9yr-Q5T"
      },
      "execution_count": null,
      "outputs": []
    }
  ]
}
